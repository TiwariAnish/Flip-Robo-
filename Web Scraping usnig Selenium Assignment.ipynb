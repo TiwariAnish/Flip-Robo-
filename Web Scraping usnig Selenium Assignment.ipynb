{
 "cells": [
  {
   "cell_type": "markdown",
   "id": "21a02875",
   "metadata": {},
   "source": [
    "# Web Scraping usnig Selenium Assignment"
   ]
  },
  {
   "cell_type": "code",
   "execution_count": 14,
   "id": "7ab1504c",
   "metadata": {},
   "outputs": [],
   "source": [
    "import selenium\n",
    "import pandas as pd\n",
    "import warnings\n",
    "from selenium import webdriver\n",
    "warnings.filterwarnings('ignore')\n",
    "from selenium.webdriver.common.by import By\n",
    "import time"
   ]
  },
  {
   "cell_type": "code",
   "execution_count": 15,
   "id": "7b13b8bf",
   "metadata": {},
   "outputs": [],
   "source": [
    "# Initializing the web driver\n",
    "driver = webdriver.Chrome()"
   ]
  },
  {
   "cell_type": "code",
   "execution_count": 18,
   "id": "effb1c26",
   "metadata": {},
   "outputs": [],
   "source": [
    "# Accessing the website\n",
    "driver.get('https://www.shine.com/')"
   ]
  },
  {
   "cell_type": "code",
   "execution_count": 21,
   "id": "b71d3620",
   "metadata": {},
   "outputs": [],
   "source": [
    "# Entering the Designation\n",
    "designation = driver.find_element(By.CLASS_NAME, \"form-control  \")\n",
    "designation.send_keys('Data Analyst')"
   ]
  },
  {
   "cell_type": "code",
   "execution_count": 23,
   "id": "e72346cf",
   "metadata": {},
   "outputs": [],
   "source": [
    "# Entering the location\n",
    "loc = driver.find_element(By.XPATH, '//li[@class=\"jobSearchForm_search_item__85hKe form-group\"]/div/input')\n",
    "loc.send_keys('Bangalore')"
   ]
  },
  {
   "cell_type": "code",
   "execution_count": 24,
   "id": "1e5d73f0",
   "metadata": {},
   "outputs": [],
   "source": [
    "#searching the entered parameters\n",
    "search = driver.find_element(By.CLASS_NAME, \"searchForm_btnWrap_advance__VYBHN\")\n",
    "search.click()"
   ]
  },
  {
   "cell_type": "code",
   "execution_count": 48,
   "id": "f6b0b0ba",
   "metadata": {},
   "outputs": [
    {
     "name": "stdout",
     "output_type": "stream",
     "text": [
      "0 0 0 0\n"
     ]
    }
   ],
   "source": [
    "# Scraping the job details\n",
    "\n",
    "job_title = []\n",
    "job_loc = []\n",
    "company_name = []\n",
    "exp_req = []\n",
    "\n",
    "print(len(job_title), len(job_loc), len(company_name), len(exp_req))"
   ]
  },
  {
   "cell_type": "code",
   "execution_count": 49,
   "id": "f9235812",
   "metadata": {},
   "outputs": [],
   "source": [
    "# # Scraping for titles\n",
    "# title_tags = driver.find_elements(By.XPATH, '//strong[@class=\"jobCard_pReplaceH2__xWmHg\"]/p/a[1]')\n",
    "# for i in title_tags:\n",
    "#     title = i.text\n",
    "#     job_title.append(title)\n",
    "    \n",
    "# # Scraping for location\n",
    "# loc_tags = driver.find_elements(By.XPATH, '//div[@class=\"jobCard_jobCard_lists_item__YxRkV jobCard_locationIcon__zrWt2\"]/span')\n",
    "# for i in loc_tags:\n",
    "#     location = i.text\n",
    "#     job_loc.append(location)\n",
    "    \n",
    "# # Scraping for company name\n",
    "# company_tags = driver.find_elements(By.XPATH, '//div[@class=\"jobCard_jobCard_cName__mYnow\"]/span')\n",
    "# for i in company_tags:\n",
    "#     company = i.text\n",
    "#     company_name.append(company)\n",
    "    \n",
    "# #Scraping for experience required\n",
    "# exp_tags = driver.find_elements(By.XPATH, '//div[@class=\" jobCard_jobCard_lists_item__YxRkV jobCard_jobIcon__3FB1t\"]')\n",
    "# for i in exp_tags:\n",
    "#     experience = i.text\n",
    "#     exp_req.append(experience)"
   ]
  },
  {
   "cell_type": "code",
   "execution_count": 50,
   "id": "78c5d6e3",
   "metadata": {},
   "outputs": [
    {
     "name": "stdout",
     "output_type": "stream",
     "text": [
      "20 13 20 20\n"
     ]
    }
   ],
   "source": [
    "print(len(job_title), len(job_loc), len(company_name), len(exp_req))"
   ]
  },
  {
   "cell_type": "code",
   "execution_count": 32,
   "id": "79b3d51a",
   "metadata": {},
   "outputs": [
    {
     "name": "stdout",
     "output_type": "stream",
     "text": [
      "20\n"
     ]
    }
   ],
   "source": [
    "# Scraping the Job Titles\n",
    "\n",
    "titles = []\n",
    "for i in driver.find_elements(By.XPATH, '//strong[@class=\"jobCard_pReplaceH2__xWmHg\"]/p/a[1]'):\n",
    "    titles.append(i.text)\n",
    "    \n",
    "print(len(titles))\n"
   ]
  },
  {
   "cell_type": "code",
   "execution_count": 60,
   "id": "53b2179f",
   "metadata": {},
   "outputs": [
    {
     "name": "stdout",
     "output_type": "stream",
     "text": [
      "20\n"
     ]
    }
   ],
   "source": [
    "# Scraping the Job Location\n",
    "\n",
    "location = []\n",
    "for i in driver.find_elements(By.XPATH, '//div[@class=\"jobCard_jobCard_lists__fdnsc\"]/div[1]'):\n",
    "    location.append(i.text)\n",
    "    \n",
    "print(len(location))"
   ]
  },
  {
   "cell_type": "code",
   "execution_count": 53,
   "id": "f8c7fe07",
   "metadata": {},
   "outputs": [
    {
     "name": "stdout",
     "output_type": "stream",
     "text": [
      "20\n"
     ]
    }
   ],
   "source": [
    "# Scraping the Company Names\n",
    "\n",
    "company = []\n",
    "for i in driver.find_elements(By.XPATH, '//div[@class=\"jobCard_jobCard_cName__mYnow\"]/span'):\n",
    "    company.append(i.text)\n",
    "    \n",
    "print(len(company))"
   ]
  },
  {
   "cell_type": "code",
   "execution_count": 56,
   "id": "15aa9ddb",
   "metadata": {},
   "outputs": [
    {
     "name": "stdout",
     "output_type": "stream",
     "text": [
      "20\n"
     ]
    }
   ],
   "source": [
    "# Scraping the Experience Required\n",
    "\n",
    "exp_req = []\n",
    "for i in driver.find_elements(By.XPATH, '//div[@class=\" jobCard_jobCard_lists_item__YxRkV jobCard_jobIcon__3FB1t\"]'):\n",
    "    exp_req.append(i.text)\n",
    "\n",
    "print(len(exp_req))"
   ]
  },
  {
   "cell_type": "code",
   "execution_count": 61,
   "id": "669995e0",
   "metadata": {},
   "outputs": [
    {
     "data": {
      "text/html": [
       "<div>\n",
       "<style scoped>\n",
       "    .dataframe tbody tr th:only-of-type {\n",
       "        vertical-align: middle;\n",
       "    }\n",
       "\n",
       "    .dataframe tbody tr th {\n",
       "        vertical-align: top;\n",
       "    }\n",
       "\n",
       "    .dataframe thead th {\n",
       "        text-align: right;\n",
       "    }\n",
       "</style>\n",
       "<table border=\"1\" class=\"dataframe\">\n",
       "  <thead>\n",
       "    <tr style=\"text-align: right;\">\n",
       "      <th></th>\n",
       "      <th>Titles</th>\n",
       "      <th>Location</th>\n",
       "      <th>Company Name</th>\n",
       "      <th>Experience Required</th>\n",
       "    </tr>\n",
       "  </thead>\n",
       "  <tbody>\n",
       "    <tr>\n",
       "      <th>0</th>\n",
       "      <td>Data Analyst , Senior Data Analyst , Data Anal...</td>\n",
       "      <td>Bangalore\\n+8</td>\n",
       "      <td>appsoft solutions</td>\n",
       "      <td>0 to 4 Yrs</td>\n",
       "    </tr>\n",
       "    <tr>\n",
       "      <th>1</th>\n",
       "      <td>Data Analyst</td>\n",
       "      <td>Bangalore</td>\n",
       "      <td>phoenix global re settlement servic...</td>\n",
       "      <td>3 to 8 Yrs</td>\n",
       "    </tr>\n",
       "    <tr>\n",
       "      <th>2</th>\n",
       "      <td>Data Analyst (Business development)</td>\n",
       "      <td>Bangalore\\n+8</td>\n",
       "      <td>gallagher and mohan private limited</td>\n",
       "      <td>2 to 4 Yrs</td>\n",
       "    </tr>\n",
       "    <tr>\n",
       "      <th>3</th>\n",
       "      <td>Data Analyst</td>\n",
       "      <td>Bangalore</td>\n",
       "      <td>subhadra jobs consultancy hiring fo...</td>\n",
       "      <td>2 to 7 Yrs</td>\n",
       "    </tr>\n",
       "    <tr>\n",
       "      <th>4</th>\n",
       "      <td>Data Analyst</td>\n",
       "      <td>Bangalore</td>\n",
       "      <td>subhadra jobs consultancy hiring fo...</td>\n",
       "      <td>2 to 7 Yrs</td>\n",
       "    </tr>\n",
       "    <tr>\n",
       "      <th>5</th>\n",
       "      <td>Clinical Data Analyst</td>\n",
       "      <td>Bangalore\\n+6</td>\n",
       "      <td>techno endura</td>\n",
       "      <td>0 to 1 Yr</td>\n",
       "    </tr>\n",
       "    <tr>\n",
       "      <th>6</th>\n",
       "      <td>Clinical Data Analyst</td>\n",
       "      <td>Bangalore\\n+6</td>\n",
       "      <td>techno endura</td>\n",
       "      <td>0 to 1 Yr</td>\n",
       "    </tr>\n",
       "    <tr>\n",
       "      <th>7</th>\n",
       "      <td>Clinical Data Analyst</td>\n",
       "      <td>Bangalore\\n+6</td>\n",
       "      <td>techno endura</td>\n",
       "      <td>0 to 1 Yr</td>\n",
       "    </tr>\n",
       "    <tr>\n",
       "      <th>8</th>\n",
       "      <td>Data Analyst</td>\n",
       "      <td>Bangalore</td>\n",
       "      <td>ltimindtree limited</td>\n",
       "      <td>5 to 10 Yrs</td>\n",
       "    </tr>\n",
       "    <tr>\n",
       "      <th>9</th>\n",
       "      <td>Data Analyst</td>\n",
       "      <td>Bangalore</td>\n",
       "      <td>vision india services private limit...</td>\n",
       "      <td>2 to 4 Yrs</td>\n",
       "    </tr>\n",
       "  </tbody>\n",
       "</table>\n",
       "</div>"
      ],
      "text/plain": [
       "                                              Titles       Location  \\\n",
       "0  Data Analyst , Senior Data Analyst , Data Anal...  Bangalore\\n+8   \n",
       "1                                       Data Analyst      Bangalore   \n",
       "2                Data Analyst (Business development)  Bangalore\\n+8   \n",
       "3                                       Data Analyst      Bangalore   \n",
       "4                                       Data Analyst      Bangalore   \n",
       "5                              Clinical Data Analyst  Bangalore\\n+6   \n",
       "6                              Clinical Data Analyst  Bangalore\\n+6   \n",
       "7                              Clinical Data Analyst  Bangalore\\n+6   \n",
       "8                                       Data Analyst      Bangalore   \n",
       "9                                       Data Analyst      Bangalore   \n",
       "\n",
       "                             Company Name Experience Required  \n",
       "0                       appsoft solutions          0 to 4 Yrs  \n",
       "1  phoenix global re settlement servic...          3 to 8 Yrs  \n",
       "2     gallagher and mohan private limited          2 to 4 Yrs  \n",
       "3  subhadra jobs consultancy hiring fo...          2 to 7 Yrs  \n",
       "4  subhadra jobs consultancy hiring fo...          2 to 7 Yrs  \n",
       "5                           techno endura           0 to 1 Yr  \n",
       "6                           techno endura           0 to 1 Yr  \n",
       "7                           techno endura           0 to 1 Yr  \n",
       "8                     ltimindtree limited         5 to 10 Yrs  \n",
       "9  vision india services private limit...          2 to 4 Yrs  "
      ]
     },
     "execution_count": 61,
     "metadata": {},
     "output_type": "execute_result"
    }
   ],
   "source": [
    "df = pd.DataFrame({'Titles': titles, 'Location': location, 'Company Name':company, 'Experience Required':exp_req})\n",
    "df[:10]"
   ]
  },
  {
   "cell_type": "code",
   "execution_count": null,
   "id": "602922e5",
   "metadata": {},
   "outputs": [],
   "source": []
  },
  {
   "cell_type": "code",
   "execution_count": null,
   "id": "22212760",
   "metadata": {},
   "outputs": [],
   "source": []
  },
  {
   "cell_type": "markdown",
   "id": "5d094f94",
   "metadata": {},
   "source": [
    "# For Naukri.com"
   ]
  },
  {
   "cell_type": "code",
   "execution_count": 62,
   "id": "002b2a36",
   "metadata": {},
   "outputs": [],
   "source": [
    "import selenium\n",
    "from selenium import webdriver\n",
    "import pandas as pd\n",
    "import warnings\n",
    "warnings.filterwarnings('ignore')\n",
    "import time\n",
    "from selenium.webdriver.common.by import By"
   ]
  },
  {
   "cell_type": "code",
   "execution_count": 63,
   "id": "84e95fc0",
   "metadata": {},
   "outputs": [],
   "source": [
    "driver1 = webdriver.Chrome()"
   ]
  },
  {
   "cell_type": "code",
   "execution_count": 64,
   "id": "70567bf9",
   "metadata": {},
   "outputs": [],
   "source": [
    "# Accessing the site through chrome\n",
    "driver1.get('https://www.naukri.com/')"
   ]
  },
  {
   "cell_type": "code",
   "execution_count": 69,
   "id": "2b998c6c",
   "metadata": {},
   "outputs": [],
   "source": [
    "# Entering the Dsignation\n",
    "\n",
    "designation = driver1.find_element(By.CLASS_NAME, \"suggestor-input \")\n",
    "designation.send_keys('Data Analyst')"
   ]
  },
  {
   "cell_type": "code",
   "execution_count": 70,
   "id": "6df0349c",
   "metadata": {},
   "outputs": [],
   "source": [
    "# Entering the Location\n",
    "\n",
    "location = driver1.find_element(By.XPATH, '/html/body/div[1]/div[7]/div/div/div[5]/div/div/div/div[1]/div/input')\n",
    "location.send_keys('Bangalore')"
   ]
  },
  {
   "cell_type": "code",
   "execution_count": 71,
   "id": "1650d518",
   "metadata": {},
   "outputs": [],
   "source": [
    "# Entering the search option\n",
    "\n",
    "search = driver1.find_element(By.XPATH, '/html/body/div[1]/div[7]/div/div/div[6]')\n",
    "search.click()"
   ]
  },
  {
   "cell_type": "code",
   "execution_count": 79,
   "id": "8f984f8a",
   "metadata": {},
   "outputs": [
    {
     "name": "stdout",
     "output_type": "stream",
     "text": [
      "0 0 0 0\n"
     ]
    }
   ],
   "source": [
    "# Scraping the Job Details\n",
    "\n",
    "job_title = []\n",
    "job_loc = []\n",
    "company_name = []\n",
    "exp_req = []\n",
    "\n",
    "print(len(job_title), len(job_loc), len(company_name), len(exp_req))"
   ]
  },
  {
   "cell_type": "code",
   "execution_count": 80,
   "id": "e844f593",
   "metadata": {},
   "outputs": [
    {
     "name": "stdout",
     "output_type": "stream",
     "text": [
      "20\n"
     ]
    }
   ],
   "source": [
    "# Scraping the titles\n",
    "title_tags = driver1.find_elements(By.XPATH, '//div[@class=\"cust-job-tuple layout-wrapper lay-2 sjw__tuple \"]/div/a')\n",
    "for i in title_tags:\n",
    "    title = i.text\n",
    "    job_title.append(title)\n",
    "    \n",
    "print(len(job_title))"
   ]
  },
  {
   "cell_type": "code",
   "execution_count": 82,
   "id": "9b26595d",
   "metadata": {},
   "outputs": [
    {
     "name": "stdout",
     "output_type": "stream",
     "text": [
      "20\n"
     ]
    }
   ],
   "source": [
    "# Scraping the location\n",
    "loc_tags = driver1.find_elements(By.XPATH, '//span[@class=\"ni-job-tuple-icon ni-job-tuple-icon-srp-location loc\"]/span')\n",
    "for i in loc_tags:\n",
    "    loc = i.text\n",
    "    job_loc.append(loc)\n",
    "    \n",
    "print(len(job_loc))"
   ]
  },
  {
   "cell_type": "code",
   "execution_count": 83,
   "id": "fdc51284",
   "metadata": {},
   "outputs": [
    {
     "name": "stdout",
     "output_type": "stream",
     "text": [
      "20\n"
     ]
    }
   ],
   "source": [
    "# Scraping the company name\n",
    "company_tags = driver1.find_elements(By.XPATH, '//div[@class=\" row2\"]/span/a[1]')\n",
    "for i in company_tags:\n",
    "    company = i.text\n",
    "    company_name.append(company)\n",
    "    \n",
    "print(len(company_name))"
   ]
  },
  {
   "cell_type": "code",
   "execution_count": 84,
   "id": "440c382d",
   "metadata": {},
   "outputs": [
    {
     "name": "stdout",
     "output_type": "stream",
     "text": [
      "20\n"
     ]
    }
   ],
   "source": [
    "# Scraping the Experience required for a particular job\n",
    "exp_tags = driver1.find_elements(By.XPATH, '//span[@class=\"ni-job-tuple-icon ni-job-tuple-icon-srp-experience exp\"]/span')\n",
    "for i in exp_tags:\n",
    "    experience = i.text\n",
    "    exp_req.append(experience)\n",
    "\n",
    "print(len(exp_req))"
   ]
  },
  {
   "cell_type": "code",
   "execution_count": 85,
   "id": "b8614d59",
   "metadata": {},
   "outputs": [
    {
     "data": {
      "text/html": [
       "<div>\n",
       "<style scoped>\n",
       "    .dataframe tbody tr th:only-of-type {\n",
       "        vertical-align: middle;\n",
       "    }\n",
       "\n",
       "    .dataframe tbody tr th {\n",
       "        vertical-align: top;\n",
       "    }\n",
       "\n",
       "    .dataframe thead th {\n",
       "        text-align: right;\n",
       "    }\n",
       "</style>\n",
       "<table border=\"1\" class=\"dataframe\">\n",
       "  <thead>\n",
       "    <tr style=\"text-align: right;\">\n",
       "      <th></th>\n",
       "      <th>Titles</th>\n",
       "      <th>Location</th>\n",
       "      <th>Company Name</th>\n",
       "      <th>Exp Req</th>\n",
       "    </tr>\n",
       "  </thead>\n",
       "  <tbody>\n",
       "    <tr>\n",
       "      <th>0</th>\n",
       "      <td>Excelher - Data Analyst</td>\n",
       "      <td>Bengaluru</td>\n",
       "      <td>Volvo Financial Services</td>\n",
       "      <td>3-5 Yrs</td>\n",
       "    </tr>\n",
       "    <tr>\n",
       "      <th>1</th>\n",
       "      <td>Genome Data Analyst</td>\n",
       "      <td>Bengaluru</td>\n",
       "      <td>Scientific Biominds</td>\n",
       "      <td>1-3 Yrs</td>\n",
       "    </tr>\n",
       "    <tr>\n",
       "      <th>2</th>\n",
       "      <td>Data Analyst// Bangalore//Chennai</td>\n",
       "      <td>Chennai, Bengaluru</td>\n",
       "      <td>Leading MNC</td>\n",
       "      <td>4-9 Yrs</td>\n",
       "    </tr>\n",
       "    <tr>\n",
       "      <th>3</th>\n",
       "      <td>Data Analyst</td>\n",
       "      <td>Mumbai, Delhi / NCR, Bengaluru</td>\n",
       "      <td>Sava Healthcare</td>\n",
       "      <td>0-5 Yrs</td>\n",
       "    </tr>\n",
       "    <tr>\n",
       "      <th>4</th>\n",
       "      <td>Data Analyst</td>\n",
       "      <td>Bengaluru</td>\n",
       "      <td>Leading Client</td>\n",
       "      <td>5-10 Yrs</td>\n",
       "    </tr>\n",
       "    <tr>\n",
       "      <th>5</th>\n",
       "      <td>HCL Tech- Job Opening For Data analyst @ Hyder...</td>\n",
       "      <td>Bangalore Rural, Hyderabad</td>\n",
       "      <td>HCLTech</td>\n",
       "      <td>6-10 Yrs</td>\n",
       "    </tr>\n",
       "    <tr>\n",
       "      <th>6</th>\n",
       "      <td>FHIR Data Analyst</td>\n",
       "      <td>Bengaluru</td>\n",
       "      <td>Infosys</td>\n",
       "      <td>3-6 Yrs</td>\n",
       "    </tr>\n",
       "    <tr>\n",
       "      <th>7</th>\n",
       "      <td>Data Analyst</td>\n",
       "      <td>Hybrid - Bengaluru, Delhi / NCR</td>\n",
       "      <td>Amazon</td>\n",
       "      <td>2-4 Yrs</td>\n",
       "    </tr>\n",
       "    <tr>\n",
       "      <th>8</th>\n",
       "      <td>Data Analyst - Python, PySpark</td>\n",
       "      <td>Hybrid - Pune, Bengaluru</td>\n",
       "      <td>One of the TOP Financial Services Organization</td>\n",
       "      <td>6-11 Yrs</td>\n",
       "    </tr>\n",
       "    <tr>\n",
       "      <th>9</th>\n",
       "      <td>Data Analyst</td>\n",
       "      <td>Bengaluru</td>\n",
       "      <td>Paypal</td>\n",
       "      <td>2-7 Yrs</td>\n",
       "    </tr>\n",
       "  </tbody>\n",
       "</table>\n",
       "</div>"
      ],
      "text/plain": [
       "                                              Titles  \\\n",
       "0                            Excelher - Data Analyst   \n",
       "1                                Genome Data Analyst   \n",
       "2                  Data Analyst// Bangalore//Chennai   \n",
       "3                                       Data Analyst   \n",
       "4                                       Data Analyst   \n",
       "5  HCL Tech- Job Opening For Data analyst @ Hyder...   \n",
       "6                                  FHIR Data Analyst   \n",
       "7                                       Data Analyst   \n",
       "8                     Data Analyst - Python, PySpark   \n",
       "9                                       Data Analyst   \n",
       "\n",
       "                          Location  \\\n",
       "0                        Bengaluru   \n",
       "1                        Bengaluru   \n",
       "2               Chennai, Bengaluru   \n",
       "3   Mumbai, Delhi / NCR, Bengaluru   \n",
       "4                        Bengaluru   \n",
       "5       Bangalore Rural, Hyderabad   \n",
       "6                        Bengaluru   \n",
       "7  Hybrid - Bengaluru, Delhi / NCR   \n",
       "8         Hybrid - Pune, Bengaluru   \n",
       "9                        Bengaluru   \n",
       "\n",
       "                                     Company Name   Exp Req  \n",
       "0                        Volvo Financial Services   3-5 Yrs  \n",
       "1                             Scientific Biominds   1-3 Yrs  \n",
       "2                                     Leading MNC   4-9 Yrs  \n",
       "3                                 Sava Healthcare   0-5 Yrs  \n",
       "4                                  Leading Client  5-10 Yrs  \n",
       "5                                         HCLTech  6-10 Yrs  \n",
       "6                                         Infosys   3-6 Yrs  \n",
       "7                                          Amazon   2-4 Yrs  \n",
       "8  One of the TOP Financial Services Organization  6-11 Yrs  \n",
       "9                                          Paypal   2-7 Yrs  "
      ]
     },
     "execution_count": 85,
     "metadata": {},
     "output_type": "execute_result"
    }
   ],
   "source": [
    "# Creating the DataFrame using Pandas\n",
    "df1 = pd.DataFrame({'Titles':job_title, 'Location':job_loc, 'Company Name':company_name, 'Exp Req':exp_req})\n",
    "df1[:10]"
   ]
  },
  {
   "cell_type": "code",
   "execution_count": null,
   "id": "e59ebeae",
   "metadata": {},
   "outputs": [],
   "source": []
  },
  {
   "cell_type": "code",
   "execution_count": null,
   "id": "11af62f2",
   "metadata": {},
   "outputs": [],
   "source": []
  },
  {
   "cell_type": "markdown",
   "id": "f3aea99c",
   "metadata": {},
   "source": [
    "# Scraping from Flipkart:"
   ]
  },
  {
   "cell_type": "code",
   "execution_count": 43,
   "id": "41bf9491",
   "metadata": {},
   "outputs": [],
   "source": [
    "import selenium\n",
    "from selenium import webdriver\n",
    "import warnings\n",
    "warnings.filterwarnings('ignore')\n",
    "from selenium.webdriver.common.by import By\n",
    "import time\n",
    "import pandas as pd"
   ]
  },
  {
   "cell_type": "code",
   "execution_count": 44,
   "id": "3f5ed3e1",
   "metadata": {},
   "outputs": [],
   "source": [
    "driver2 = webdriver.Chrome()"
   ]
  },
  {
   "cell_type": "code",
   "execution_count": 45,
   "id": "ead863df",
   "metadata": {},
   "outputs": [],
   "source": [
    "driver2.get('https://www.flipkart.com/')"
   ]
  },
  {
   "cell_type": "code",
   "execution_count": 46,
   "id": "cf3e89c6",
   "metadata": {},
   "outputs": [],
   "source": [
    "# Entering the Sunglasses\n",
    "sunglass = driver2.find_element(By.CLASS_NAME, \"Pke_EE\")\n",
    "sunglass.send_keys('Sunglasses')"
   ]
  },
  {
   "cell_type": "code",
   "execution_count": 47,
   "id": "fc09abea",
   "metadata": {},
   "outputs": [],
   "source": [
    "# Entering the search button\n",
    "search = driver2.find_element(By.XPATH, '//div[@class=\"_1sFryS _2alaMB\"]/button')\n",
    "search.click()"
   ]
  },
  {
   "cell_type": "code",
   "execution_count": 48,
   "id": "81e672cf",
   "metadata": {},
   "outputs": [
    {
     "name": "stdout",
     "output_type": "stream",
     "text": [
      "32\n",
      "['UV Protection Round Sunglasses (51)', 'UV Protection Wayfarer, Retro Square Sunglasses (52)', 'UV Protection, Mirrored Wayfarer Sunglasses (52)', 'UV Protection Wayfarer Sunglasses (58)', 'UV Protection Wayfarer Sunglasses (52)', 'UV Protection Wayfarer, Retro Square Sunglasses (52)', 'UV Protection Wayfarer Sunglasses (50)', 'UV Protection Cat-eye, Retro Square, Oval, Round Sungla...', 'UV Protection Rectangular Sunglasses (Free Size)', 'Polarized Aviator, Aviator Sunglasses (21)', 'UV Protection Wayfarer, Sports, Spectacle , Retro Squar...', 'UV Protection Wayfarer Sunglasses (Free Size)', 'Mirrored Aviator Sunglasses (58)', 'UV Protection Rectangular Sunglasses (57)', 'Mirrored Wayfarer Sunglasses (50)', 'UV Protection Retro Square Sunglasses (54)', 'UV Protection, Polarized Wayfarer Sunglasses (52)', 'UV Protection Sports, Wrap-around Sunglasses (70)', 'UV Protection Over-sized Sunglasses (60)', 'UV Protection Aviator Sunglasses (Free Size)', 'UV Protection Over-sized Sunglasses (60)', 'UV Protection, Riding Glasses Retro Square Sunglasses (...', 'UV Protection Aviator Sunglasses (58)', 'UV Protection Rectangular Sunglasses (Free Size)', 'UV Protection Retro Square, Wayfarer, Sports Sunglasses...', 'UV Protection Wayfarer Sunglasses (60)', 'Polarized, UV Protection Aviator Sunglasses (58)', 'Polarized, Riding Glasses Sports, Wrap-around Sunglasse...', 'UV Protection Round Sunglasses (Free Size)', 'UV Protection Retro Square Sunglasses (54)', 'UV Protection Aviator Sunglasses (58)', 'UV Protection Wayfarer Sunglasses (Free Size)']\n"
     ]
    }
   ],
   "source": [
    "# Sunglasses titles scraping from 1st page\n",
    "glass_title = []\n",
    "\n",
    "glass_tags = driver2.find_elements(By.XPATH, '//a[@class=\"WKTcLC\"]')\n",
    "for i in glass_tags:\n",
    "    sun_title = i.text\n",
    "    glass_title.append(sun_title)\n",
    "    \n",
    "print(len(glass_title))\n",
    "print(glass_title)"
   ]
  },
  {
   "cell_type": "code",
   "execution_count": 50,
   "id": "f772be01",
   "metadata": {},
   "outputs": [
    {
     "name": "stdout",
     "output_type": "stream",
     "text": [
      "32\n",
      "['₹699', '₹594', '₹169', '₹159', '₹779', '₹159', '₹169', '₹299', '₹159', '₹149', '₹340', '₹497', '₹1,200', '₹212', '₹250', '₹899', '₹379', '₹1,309', '₹229', '₹149', '₹637', '₹499', '₹279', '₹303', '₹279', '₹408', '₹1,448', '₹385', '₹369', '₹190', '₹949', '₹712']\n"
     ]
    }
   ],
   "source": [
    "# price of the glasses\n",
    "Price = []\n",
    "\n",
    "price_tags = driver2.find_elements(By.XPATH, '//div[@class=\"Nx9bqj\"]')\n",
    "for i in price_tags[:32]:   # here i have done slicing since there were only 33 titles available so for creating the dataframe we need to have same length\n",
    "    pricing = i.text\n",
    "    Price.append(pricing[0:32])\n",
    "\n",
    "print(len(Price))\n",
    "print(Price)"
   ]
  },
  {
   "cell_type": "code",
   "execution_count": 51,
   "id": "65687a63",
   "metadata": {},
   "outputs": [
    {
     "name": "stdout",
     "output_type": "stream",
     "text": [
      "32\n",
      "['VOYAGE', 'ROYAL SON', 'Elligator', 'Elligator', 'Fastrack', 'SRPM', 'Elligator', 'elegante', 'SRPM', 'Elligator', 'Eyenaks', 'ROYAL SON', 'Pushpa Traders', 'ROADWAY', 'Dervin', 'Fastrack', 'ROYAL SON', 'IRUS', 'Elligator', 'Elligator', 'Woggles', 'NuVew', 'PIRASO', 'PIRASO', 'PIRASO', 'Dukiekooky', 'Resist', 'NuVew', 'ROADWAY', 'ROADWAY', 'VOYAGE', 'ROYAL SON']\n"
     ]
    }
   ],
   "source": [
    "company_name = []\n",
    "\n",
    "comp_name = driver2.find_elements(By.XPATH, '//div[@class=\"syl9yP\"]')\n",
    "for i in comp_name[:32]:  # here i have done slicing since there were only 33 titles available so for creating the dataframe we need to have same length\n",
    "    company = i.text\n",
    "    company_name.append(company)\n",
    "    \n",
    "print(len(company_name))\n",
    "print(company_name)"
   ]
  },
  {
   "cell_type": "code",
   "execution_count": null,
   "id": "339450f1",
   "metadata": {},
   "outputs": [],
   "source": []
  },
  {
   "cell_type": "markdown",
   "id": "ab3edd24",
   "metadata": {},
   "source": [
    "Creating a DataFrame of the product details"
   ]
  },
  {
   "cell_type": "code",
   "execution_count": 52,
   "id": "68fcd2a1",
   "metadata": {},
   "outputs": [
    {
     "data": {
      "text/html": [
       "<div>\n",
       "<style scoped>\n",
       "    .dataframe tbody tr th:only-of-type {\n",
       "        vertical-align: middle;\n",
       "    }\n",
       "\n",
       "    .dataframe tbody tr th {\n",
       "        vertical-align: top;\n",
       "    }\n",
       "\n",
       "    .dataframe thead th {\n",
       "        text-align: right;\n",
       "    }\n",
       "</style>\n",
       "<table border=\"1\" class=\"dataframe\">\n",
       "  <thead>\n",
       "    <tr style=\"text-align: right;\">\n",
       "      <th></th>\n",
       "      <th>Titles</th>\n",
       "      <th>Price</th>\n",
       "      <th>Company Name</th>\n",
       "    </tr>\n",
       "  </thead>\n",
       "  <tbody>\n",
       "    <tr>\n",
       "      <th>0</th>\n",
       "      <td>UV Protection Round Sunglasses (51)</td>\n",
       "      <td>₹699</td>\n",
       "      <td>VOYAGE</td>\n",
       "    </tr>\n",
       "    <tr>\n",
       "      <th>1</th>\n",
       "      <td>UV Protection Wayfarer, Retro Square Sunglasse...</td>\n",
       "      <td>₹594</td>\n",
       "      <td>ROYAL SON</td>\n",
       "    </tr>\n",
       "    <tr>\n",
       "      <th>2</th>\n",
       "      <td>UV Protection, Mirrored Wayfarer Sunglasses (52)</td>\n",
       "      <td>₹169</td>\n",
       "      <td>Elligator</td>\n",
       "    </tr>\n",
       "    <tr>\n",
       "      <th>3</th>\n",
       "      <td>UV Protection Wayfarer Sunglasses (58)</td>\n",
       "      <td>₹159</td>\n",
       "      <td>Elligator</td>\n",
       "    </tr>\n",
       "    <tr>\n",
       "      <th>4</th>\n",
       "      <td>UV Protection Wayfarer Sunglasses (52)</td>\n",
       "      <td>₹779</td>\n",
       "      <td>Fastrack</td>\n",
       "    </tr>\n",
       "    <tr>\n",
       "      <th>5</th>\n",
       "      <td>UV Protection Wayfarer, Retro Square Sunglasse...</td>\n",
       "      <td>₹159</td>\n",
       "      <td>SRPM</td>\n",
       "    </tr>\n",
       "    <tr>\n",
       "      <th>6</th>\n",
       "      <td>UV Protection Wayfarer Sunglasses (50)</td>\n",
       "      <td>₹169</td>\n",
       "      <td>Elligator</td>\n",
       "    </tr>\n",
       "    <tr>\n",
       "      <th>7</th>\n",
       "      <td>UV Protection Cat-eye, Retro Square, Oval, Rou...</td>\n",
       "      <td>₹299</td>\n",
       "      <td>elegante</td>\n",
       "    </tr>\n",
       "    <tr>\n",
       "      <th>8</th>\n",
       "      <td>UV Protection Rectangular Sunglasses (Free Size)</td>\n",
       "      <td>₹159</td>\n",
       "      <td>SRPM</td>\n",
       "    </tr>\n",
       "    <tr>\n",
       "      <th>9</th>\n",
       "      <td>Polarized Aviator, Aviator Sunglasses (21)</td>\n",
       "      <td>₹149</td>\n",
       "      <td>Elligator</td>\n",
       "    </tr>\n",
       "  </tbody>\n",
       "</table>\n",
       "</div>"
      ],
      "text/plain": [
       "                                              Titles Price Company Name\n",
       "0                UV Protection Round Sunglasses (51)  ₹699       VOYAGE\n",
       "1  UV Protection Wayfarer, Retro Square Sunglasse...  ₹594    ROYAL SON\n",
       "2   UV Protection, Mirrored Wayfarer Sunglasses (52)  ₹169    Elligator\n",
       "3             UV Protection Wayfarer Sunglasses (58)  ₹159    Elligator\n",
       "4             UV Protection Wayfarer Sunglasses (52)  ₹779     Fastrack\n",
       "5  UV Protection Wayfarer, Retro Square Sunglasse...  ₹159         SRPM\n",
       "6             UV Protection Wayfarer Sunglasses (50)  ₹169    Elligator\n",
       "7  UV Protection Cat-eye, Retro Square, Oval, Rou...  ₹299     elegante\n",
       "8   UV Protection Rectangular Sunglasses (Free Size)  ₹159         SRPM\n",
       "9         Polarized Aviator, Aviator Sunglasses (21)  ₹149    Elligator"
      ]
     },
     "execution_count": 52,
     "metadata": {},
     "output_type": "execute_result"
    }
   ],
   "source": [
    "df2 = pd.DataFrame({'Titles': glass_title, 'Price': Price, 'Company Name': company_name})\n",
    "\n",
    "# just printing first 10 results for showing the results\n",
    "df2[:10]"
   ]
  },
  {
   "cell_type": "code",
   "execution_count": null,
   "id": "e4481f66",
   "metadata": {},
   "outputs": [],
   "source": [
    "# Collecting the data from next pages of web page:"
   ]
  },
  {
   "cell_type": "code",
   "execution_count": 55,
   "id": "0bb95a28",
   "metadata": {},
   "outputs": [],
   "source": [
    "start = 0\n",
    "end = 3\n",
    "for page in range(start, end):\n",
    "    glass_tags = driver2.find_elements(By.XPATH, '//a[@class=\"WKTcLC\"]')\n",
    "    for i in glass_tags[:100]:\n",
    "        glass_title.append(i.text)\n",
    "    \n",
    "    price_tags = driver2.find_elements(By.XPATH, '//div[@class=\"Nx9bqj\"]')\n",
    "    for i in price_tags[:100]:\n",
    "        Price.append(i.text)\n",
    "    \n",
    "    comp_name = driver2.find_elements(By.XPATH, '//div[@class=\"syl9yP\"]')\n",
    "    for i in comp_name[:100]:\n",
    "        company_name.append(i.text)\n",
    "        \n",
    "    next_button = driver2.find_element(By.XPATH, '/html/body/div/div/div[3]/div[1]/div[2]/div[12]/div/div/nav/a[12]/span')\n",
    "    next_button.click()\n",
    "    time.sleep(3)"
   ]
  },
  {
   "cell_type": "code",
   "execution_count": null,
   "id": "9817b299",
   "metadata": {},
   "outputs": [],
   "source": []
  },
  {
   "cell_type": "code",
   "execution_count": 59,
   "id": "862ebdf1",
   "metadata": {},
   "outputs": [
    {
     "data": {
      "text/html": [
       "<div>\n",
       "<style scoped>\n",
       "    .dataframe tbody tr th:only-of-type {\n",
       "        vertical-align: middle;\n",
       "    }\n",
       "\n",
       "    .dataframe tbody tr th {\n",
       "        vertical-align: top;\n",
       "    }\n",
       "\n",
       "    .dataframe thead th {\n",
       "        text-align: right;\n",
       "    }\n",
       "</style>\n",
       "<table border=\"1\" class=\"dataframe\">\n",
       "  <thead>\n",
       "    <tr style=\"text-align: right;\">\n",
       "      <th></th>\n",
       "      <th>Titles</th>\n",
       "      <th>Price</th>\n",
       "      <th>Company Name</th>\n",
       "    </tr>\n",
       "  </thead>\n",
       "  <tbody>\n",
       "    <tr>\n",
       "      <th>0</th>\n",
       "      <td>UV Protection Round Sunglasses (51)</td>\n",
       "      <td>₹699</td>\n",
       "      <td>VOYAGE</td>\n",
       "    </tr>\n",
       "    <tr>\n",
       "      <th>1</th>\n",
       "      <td>UV Protection Wayfarer, Retro Square Sunglasse...</td>\n",
       "      <td>₹594</td>\n",
       "      <td>ROYAL SON</td>\n",
       "    </tr>\n",
       "    <tr>\n",
       "      <th>2</th>\n",
       "      <td>UV Protection, Mirrored Wayfarer Sunglasses (52)</td>\n",
       "      <td>₹169</td>\n",
       "      <td>Elligator</td>\n",
       "    </tr>\n",
       "    <tr>\n",
       "      <th>3</th>\n",
       "      <td>UV Protection Wayfarer Sunglasses (58)</td>\n",
       "      <td>₹159</td>\n",
       "      <td>Elligator</td>\n",
       "    </tr>\n",
       "    <tr>\n",
       "      <th>4</th>\n",
       "      <td>UV Protection Wayfarer Sunglasses (52)</td>\n",
       "      <td>₹779</td>\n",
       "      <td>Fastrack</td>\n",
       "    </tr>\n",
       "    <tr>\n",
       "      <th>...</th>\n",
       "      <td>...</td>\n",
       "      <td>...</td>\n",
       "      <td>...</td>\n",
       "    </tr>\n",
       "    <tr>\n",
       "      <th>95</th>\n",
       "      <td>UV Protection Wayfarer Sunglasses (Free Size)</td>\n",
       "      <td>₹303</td>\n",
       "      <td>PIRASO</td>\n",
       "    </tr>\n",
       "    <tr>\n",
       "      <th>96</th>\n",
       "      <td>Polarized, UV Protection Sports Sunglasses (68)</td>\n",
       "      <td>₹279</td>\n",
       "      <td>PIRASO</td>\n",
       "    </tr>\n",
       "    <tr>\n",
       "      <th>97</th>\n",
       "      <td>UV Protection, Gradient Round, Cat-eye Sunglas...</td>\n",
       "      <td>₹408</td>\n",
       "      <td>Dukiekooky</td>\n",
       "    </tr>\n",
       "    <tr>\n",
       "      <th>98</th>\n",
       "      <td>Gradient, UV Protection Wayfarer Sunglasses (F...</td>\n",
       "      <td>₹1,448</td>\n",
       "      <td>Resist</td>\n",
       "    </tr>\n",
       "    <tr>\n",
       "      <th>99</th>\n",
       "      <td>Polarized, Night Vision, Riding Glasses Sports...</td>\n",
       "      <td>₹385</td>\n",
       "      <td>NuVew</td>\n",
       "    </tr>\n",
       "  </tbody>\n",
       "</table>\n",
       "<p>100 rows × 3 columns</p>\n",
       "</div>"
      ],
      "text/plain": [
       "                                               Titles   Price Company Name\n",
       "0                 UV Protection Round Sunglasses (51)    ₹699       VOYAGE\n",
       "1   UV Protection Wayfarer, Retro Square Sunglasse...    ₹594    ROYAL SON\n",
       "2    UV Protection, Mirrored Wayfarer Sunglasses (52)    ₹169    Elligator\n",
       "3              UV Protection Wayfarer Sunglasses (58)    ₹159    Elligator\n",
       "4              UV Protection Wayfarer Sunglasses (52)    ₹779     Fastrack\n",
       "..                                                ...     ...          ...\n",
       "95      UV Protection Wayfarer Sunglasses (Free Size)    ₹303       PIRASO\n",
       "96    Polarized, UV Protection Sports Sunglasses (68)    ₹279       PIRASO\n",
       "97  UV Protection, Gradient Round, Cat-eye Sunglas...    ₹408   Dukiekooky\n",
       "98  Gradient, UV Protection Wayfarer Sunglasses (F...  ₹1,448       Resist\n",
       "99  Polarized, Night Vision, Riding Glasses Sports...    ₹385        NuVew\n",
       "\n",
       "[100 rows x 3 columns]"
      ]
     },
     "execution_count": 59,
     "metadata": {},
     "output_type": "execute_result"
    }
   ],
   "source": [
    "# Details of 100 products\n",
    "\n",
    "df3 = pd.DataFrame({'Titles': glass_title[:100], 'Price': Price[:100], 'Company Name': company_name[:100]})\n",
    "df3"
   ]
  },
  {
   "cell_type": "code",
   "execution_count": null,
   "id": "d5207c74",
   "metadata": {},
   "outputs": [],
   "source": []
  }
 ],
 "metadata": {
  "kernelspec": {
   "display_name": "Python 3 (ipykernel)",
   "language": "python",
   "name": "python3"
  },
  "language_info": {
   "codemirror_mode": {
    "name": "ipython",
    "version": 3
   },
   "file_extension": ".py",
   "mimetype": "text/x-python",
   "name": "python",
   "nbconvert_exporter": "python",
   "pygments_lexer": "ipython3",
   "version": "3.11.5"
  }
 },
 "nbformat": 4,
 "nbformat_minor": 5
}
