{
 "cells": [
  {
   "cell_type": "code",
   "execution_count": 3,
   "id": "23a523fe",
   "metadata": {},
   "outputs": [
    {
     "name": "stdout",
     "output_type": "stream",
     "text": [
      "I:am:a:learner:at:DataTrained:Academy::they've:provided:me:an:amzaing:internship:in:a:greaat:company:named:Flip:Robo:\n"
     ]
    }
   ],
   "source": [
    "# Question 1- Write a Python program to replace all occurrences of a space, comma, or dot with a colon.\n",
    "# Sample Text- 'Python Exercises, PHP exercises.'\n",
    "# Expected Output: Python:Exercises::PHP:exercises:\n",
    "import regex as re\n",
    "text = \"I am a learner at DataTrained Academy, they've provided me an amzaing internship in a greaat company named Flip Robo.\"\n",
    "\n",
    "result = re.sub(r\" |,|\\.\",\":\", text)\n",
    "print(result)"
   ]
  },
  {
   "cell_type": "code",
   "execution_count": 4,
   "id": "f3aa9133",
   "metadata": {},
   "outputs": [
    {
     "name": "stdout",
     "output_type": "stream",
     "text": [
      "         SUMMARY\n",
      "0    hello world\n",
      "1     XXXXX test\n",
      "2  four five six\n"
     ]
    }
   ],
   "source": [
    "# Question 2-  Create a dataframe using the dictionary below and remove everything (commas (,), !, XXXX, ;, etc.) from the columns except words.\n",
    "# # Dictionary- {'SUMMARY' : ['hello, world!', 'XXXXX test', '123four, five:; six...']}\n",
    "# Expected output-\n",
    "# 0      hello world\n",
    "# 1             test\n",
    "# 2    four five six\n",
    "\n",
    "import pandas as pd\n",
    "\n",
    "data = {'SUMMARY' : ['hello, world!', 'XXXXX test', '123four, five:; six...']}\n",
    "df = pd.DataFrame(data)\n",
    "\n",
    "\n",
    "def clean_text(text):\n",
    "    return re.sub(r'[^a-zA-Z\\s]', '', text)\n",
    "\n",
    "df['SUMMARY'] = df['SUMMARY'].apply(clean_text)\n",
    "\n",
    "print(df)\n"
   ]
  },
  {
   "cell_type": "code",
   "execution_count": 19,
   "id": "deb5a962",
   "metadata": {},
   "outputs": [
    {
     "name": "stdout",
     "output_type": "stream",
     "text": [
      "['learner', 'DataTrained', 'Academy', 'they', 'provided', 'amzaing', 'internship', 'greaat', 'company', 'named', 'Flip', 'Robo']\n"
     ]
    }
   ],
   "source": [
    "# Question 3- Create a function in python to find all words that are at least 4 characters long in a string. \n",
    "# The use of the re.compile() method is mandatory.\n",
    "\n",
    "\n",
    "def Characters(text):\n",
    "    pattern = re.compile(r\"\\b\\w{4,}\\b\")\n",
    "    matches = pattern.findall(text)\n",
    "    return matches\n",
    "\n",
    "text = \"I am a learner at DataTrained Academy, they've provided me an amzaing internship in a greaat company named Flip Robo.\"\n",
    "\n",
    "words = Characters(text)\n",
    "print(words)"
   ]
  },
  {
   "cell_type": "code",
   "execution_count": 29,
   "id": "fb5cac65",
   "metadata": {},
   "outputs": [
    {
     "name": "stdout",
     "output_type": "stream",
     "text": [
      "['they', 'named', 'Flip', 'Robo']\n"
     ]
    }
   ],
   "source": [
    "# Question 4- Create a function in python to find all three, four, and five character words in a string. \n",
    "# The use of the re.compile() method is mandatory.\n",
    "\n",
    "def Characters(text):\n",
    "    pattern = re.compile(r\"\\b\\w{3,5}\\b\")\n",
    "    matches = pattern.findall(text)\n",
    "    return matches\n",
    "\n",
    "text = \"I am a learner at DataTrained Academy, they've provided me an amzaing internship in a greaat company named Flip Robo.\"\n",
    "\n",
    "words = Characters(text)\n",
    "print(words)"
   ]
  },
  {
   "cell_type": "code",
   "execution_count": 62,
   "id": "f918bfd2",
   "metadata": {},
   "outputs": [
    {
     "name": "stdout",
     "output_type": "stream",
     "text": [
      "['example (.com)', 'hr@fliprobo (.com)', 'github (.com)', 'Hello', 'Data']\n"
     ]
    }
   ],
   "source": [
    "# Question 5- Create a function in Python to remove the parenthesis in a list of strings. The use of the re.compile() method is mandatory.\n",
    "# Sample Text: [\"example (.com)\", \"hr@fliprobo (.com)\", \"github (.com)\", \"Hello (Data Science World)\", \"Data (Scientist)\"]\n",
    "# Expected Output:\n",
    "# example.com\n",
    "# hr@fliprobo.com\n",
    "# github.com\n",
    "# Hello Data Science World\n",
    "# Data Scientist\n",
    "import re\n",
    "\n",
    "def remove_parenthesis(text):\n",
    "    pattern = re.compile(r\"\\s*\\(\\b[^)]*\\b\\)\")\n",
    "    matches = [pattern.sub(\"\", item) for item in text]\n",
    "    return matches\n",
    "\n",
    "text = [\"example (.com)\", \"hr@fliprobo (.com)\", \"github (.com)\", \"Hello (Data Science World)\", \"Data (Scientist)\"]\n",
    "\n",
    "removed_parenthesis = remove_parenthesis(text)\n",
    "print(removed_parenthesis)\n"
   ]
  },
  {
   "cell_type": "code",
   "execution_count": 63,
   "id": "5cb0db9d",
   "metadata": {},
   "outputs": [],
   "source": [
    "# Question 6- Write a python program to remove the parenthesis area from the text stored in the text file using Regular Expression.\n",
    "# Sample Text: [\"example (.com)\", \"hr@fliprobo (.com)\", \"github (.com)\", \"Hello (Data Science World)\", \"Data (Scientist)\"]\n",
    "# Expected Output: [\"example\", \"hr@fliprobo\", \"github\", \"Hello\", \"Data\"]\n",
    "# Note- Store given sample text in the text file and then to remove the parenthesis area from the text.\n"
   ]
  },
  {
   "cell_type": "code",
   "execution_count": 64,
   "id": "edddc34d",
   "metadata": {},
   "outputs": [
    {
     "name": "stdout",
     "output_type": "stream",
     "text": [
      "['I am a learner at ', 'Data', 'Trained ', \"Academy, they've provided me an amzaing internship in a greaat company named \", 'Flip ', 'Robo.']\n"
     ]
    }
   ],
   "source": [
    "# Question 7- Write a regular expression in Python to split a string into uppercase letters.\n",
    "# Sample text: “ImportanceOfRegularExpressionsInPython”\n",
    "# Expected Output: [‘Importance’, ‘Of’, ‘Regular’, ‘Expression’, ‘In’, ‘Python’]\n",
    "\n",
    "text = \"I am a learner at DataTrained Academy, they've provided me an amzaing internship in a greaat company named Flip Robo.\"\n",
    "result = re.findall (\"[A-Z][^A-Z]*\", text)\n",
    "print(result)"
   ]
  },
  {
   "cell_type": "code",
   "execution_count": 82,
   "id": "2d93c60b",
   "metadata": {},
   "outputs": [
    {
     "name": "stdout",
     "output_type": "stream",
     "text": [
      "Iamalearnerat1DataTrainedAcademy,theyhave1providedmeanamzainginternshipin1greatcompanynamedFlipRobo.\n",
      "Iamalearnerat 1DataTrainedAcademy,theyhave 1providedmeanamzainginternshipin 1greatcompanynamedFlipRobo.\n"
     ]
    }
   ],
   "source": [
    "# Question 8- Create a function in python to insert spaces between words starting with numbers.\n",
    "# Sample Text: “RegularExpression1IsAn2ImportantTopic3InPython\"\n",
    "# Expected Output: RegularExpression 1IsAn 2ImportantTopic 3InPython\n",
    "\n",
    "\n",
    "# didn't had any related text so made my own \n",
    "text = \"I am a learner at 1DataTrained Academy, they have 1 provided me an amzaing internship in 1 great company named Flip Robo.\"\n",
    "matches = re.sub(\" \",\"\",text)\n",
    "print(matches)\n",
    "\n",
    "def add_space(text):\n",
    "    pattern = r\"(\\d)\"\n",
    "    result = re.sub(pattern,r\" \\1\", text)\n",
    "    return result\n",
    "\n",
    "text = \"Iamalearnerat1DataTrainedAcademy,theyhave1providedmeanamzainginternshipin1greatcompanynamedFlipRobo.\"\n",
    "output = add_space(text)\n",
    "print(output)"
   ]
  },
  {
   "cell_type": "code",
   "execution_count": 86,
   "id": "0380dc77",
   "metadata": {},
   "outputs": [
    {
     "name": "stdout",
     "output_type": "stream",
     "text": [
      " Iamalearnerat 1 Data Trained Academy,theyhave 1providedmeanamzainginternshipin 1greatcompanynamed Flip Robo.\n"
     ]
    }
   ],
   "source": [
    "# Question 9- Create a function in python to insert spaces between words starting with capital letters or with numbers.\n",
    "# Sample Text: “RegularExpression1IsAn2ImportantTopic3InPython\"\n",
    "# Expected Output:  RegularExpression 1 IsAn 2 ImportantTopic 3 InPython\n",
    "\n",
    "def add_space(text):\n",
    "    pattern = r\"([A-Z0-9])\"\n",
    "    result = re.sub(pattern, r\" \\1\", text)\n",
    "    return result\n",
    "\n",
    "text = \"Iamalearnerat1DataTrainedAcademy,theyhave1providedmeanamzainginternshipin1greatcompanynamedFlipRobo.\"\n",
    "output = add_space(text)\n",
    "print(output)\n"
   ]
  },
  {
   "cell_type": "code",
   "execution_count": 87,
   "id": "35532ef0",
   "metadata": {},
   "outputs": [
    {
     "name": "stdout",
     "output_type": "stream",
     "text": [
      "       Country          Region  Happiness Rank  Happiness Score  \\\n",
      "0  Switzerland  Western Europe               1            7.587   \n",
      "1      Iceland  Western Europe               2            7.561   \n",
      "2      Denmark  Western Europe               3            7.527   \n",
      "3       Norway  Western Europe               4            7.522   \n",
      "4       Canada   North America               5            7.427   \n",
      "\n",
      "   Standard Error  Economy (GDP per Capita)   Family  \\\n",
      "0         0.03411                   1.39651  1.34951   \n",
      "1         0.04884                   1.30232  1.40223   \n",
      "2         0.03328                   1.32548  1.36058   \n",
      "3         0.03880                   1.45900  1.33095   \n",
      "4         0.03553                   1.32629  1.32261   \n",
      "\n",
      "   Health (Life Expectancy)  Freedom  Trust (Government Corruption)  \\\n",
      "0                   0.94143  0.66557                        0.41978   \n",
      "1                   0.94784  0.62877                        0.14145   \n",
      "2                   0.87464  0.64938                        0.48357   \n",
      "3                   0.88521  0.66973                        0.36503   \n",
      "4                   0.90563  0.63297                        0.32957   \n",
      "\n",
      "   Generosity  Dystopia Residual first_five_letters  \n",
      "0     0.29678            2.51738             Switze  \n",
      "1     0.43630            2.70201             Icelan  \n",
      "2     0.34139            2.49204             Denmar  \n",
      "3     0.34699            2.46531             Norway  \n",
      "4     0.45811            2.45176             Canada  \n"
     ]
    }
   ],
   "source": [
    "# Question 10- Use the github link below to read the data and create a dataframe. After creating the dataframe extract the first 6 letters of each country and store in the dataframe under a new column called first_five_letters.\n",
    "# Github Link-  https://raw.githubusercontent.com/dsrscientist/DSData/master/happiness_score_dataset.csv\n",
    "\n",
    "import pandas as pd\n",
    "\n",
    "url = \"https://raw.githubusercontent.com/dsrscientist/DSData/master/happiness_score_dataset.csv\"\n",
    "df = pd.read_csv(url)\n",
    "df['first_five_letters'] = df['Country'].str[:6]\n",
    "\n",
    "print(df.head())"
   ]
  },
  {
   "cell_type": "code",
   "execution_count": null,
   "id": "a7ebd96e",
   "metadata": {},
   "outputs": [],
   "source": []
  }
 ],
 "metadata": {
  "kernelspec": {
   "display_name": "Python 3 (ipykernel)",
   "language": "python",
   "name": "python3"
  },
  "language_info": {
   "codemirror_mode": {
    "name": "ipython",
    "version": 3
   },
   "file_extension": ".py",
   "mimetype": "text/x-python",
   "name": "python",
   "nbconvert_exporter": "python",
   "pygments_lexer": "ipython3",
   "version": "3.11.5"
  }
 },
 "nbformat": 4,
 "nbformat_minor": 5
}
