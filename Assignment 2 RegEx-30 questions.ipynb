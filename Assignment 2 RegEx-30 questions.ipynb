{
 "cells": [
  {
   "cell_type": "code",
   "execution_count": 8,
   "id": "23a523fe",
   "metadata": {},
   "outputs": [
    {
     "name": "stdout",
     "output_type": "stream",
     "text": [
      "I:am:a:learner:at:DataTrained:Academy::they've:provided:me:an:amzaing:internship:in:a:greaat:company:named:Flip:Robo:\n"
     ]
    }
   ],
   "source": [
    "# Question 1- Write a Python program to replace all occurrences of a space, comma, or dot with a colon.\n",
    "# Sample Text- 'Python Exercises, PHP exercises.'\n",
    "# Expected Output: Python:Exercises::PHP:exercises:\n",
    "import regex as re\n",
    "text = \"I am a learner at DataTrained Academy, they've provided me an amzaing internship in a greaat company named Flip Robo.\"\n",
    "\n",
    "result = re.sub(r\" |,|\\.\",\":\", text)\n",
    "print(result)"
   ]
  },
  {
   "cell_type": "code",
   "execution_count": 11,
   "id": "f3aa9133",
   "metadata": {},
   "outputs": [
    {
     "ename": "TypeError",
     "evalue": "sub() missing 1 required positional argument: 'string'",
     "output_type": "error",
     "traceback": [
      "\u001b[1;31m---------------------------------------------------------------------------\u001b[0m",
      "\u001b[1;31mTypeError\u001b[0m                                 Traceback (most recent call last)",
      "Cell \u001b[1;32mIn[11], line 10\u001b[0m\n\u001b[0;32m      8\u001b[0m Dictionary \u001b[38;5;241m=\u001b[39m {\u001b[38;5;124m'\u001b[39m\u001b[38;5;124mSUMMARY\u001b[39m\u001b[38;5;124m'\u001b[39m : [\u001b[38;5;124m'\u001b[39m\u001b[38;5;124mhello, world!\u001b[39m\u001b[38;5;124m'\u001b[39m, \u001b[38;5;124m'\u001b[39m\u001b[38;5;124mXXXXX test\u001b[39m\u001b[38;5;124m'\u001b[39m, \u001b[38;5;124m'\u001b[39m\u001b[38;5;124m123four, five:; six...\u001b[39m\u001b[38;5;124m'\u001b[39m]}\n\u001b[0;32m      9\u001b[0m pattern \u001b[38;5;241m=\u001b[39m \u001b[38;5;124mr\u001b[39m\u001b[38;5;124m\"\u001b[39m\u001b[38;5;124m{\u001b[39m\u001b[38;5;124m|}|,|!|XXXX|;|:|\u001b[39m\u001b[38;5;124m'\u001b[39m\u001b[38;5;124m\"\u001b[39m\n\u001b[1;32m---> 10\u001b[0m result \u001b[38;5;241m=\u001b[39m re\u001b[38;5;241m.\u001b[39msub(pattern, Dictionary)\n\u001b[0;32m     11\u001b[0m \u001b[38;5;28mprint\u001b[39m(result)\n",
      "\u001b[1;31mTypeError\u001b[0m: sub() missing 1 required positional argument: 'string'"
     ]
    }
   ],
   "source": [
    "# Question 2-  Create a dataframe using the dictionary below and remove everything (commas (,), !, XXXX, ;, etc.) from the columns except words.\n",
    "# # Dictionary- {'SUMMARY' : ['hello, world!', 'XXXXX test', '123four, five:; six...']}\n",
    "# Expected output-\n",
    "# 0      hello world\n",
    "# 1             test\n",
    "# 2    four five six\n",
    "\n",
    "Dictionary = {'SUMMARY' : ['hello, world!', 'XXXXX test', '123four, five:; six...']}\n",
    "pattern = r\"{|}|,|!|XXXX|;|:|'\"\n",
    "result = re.sub(pattern, Dictionary)\n",
    "print(result)"
   ]
  },
  {
   "cell_type": "code",
   "execution_count": 19,
   "id": "deb5a962",
   "metadata": {},
   "outputs": [
    {
     "name": "stdout",
     "output_type": "stream",
     "text": [
      "['learner', 'DataTrained', 'Academy', 'they', 'provided', 'amzaing', 'internship', 'greaat', 'company', 'named', 'Flip', 'Robo']\n"
     ]
    }
   ],
   "source": [
    "# Question 3- Create a function in python to find all words that are at least 4 characters long in a string. \n",
    "# The use of the re.compile() method is mandatory.\n",
    "\n",
    "\n",
    "def Characters(text):\n",
    "    pattern = re.compile(r\"\\b\\w{4,}\\b\")\n",
    "    matches = pattern.findall(text)\n",
    "    return matches\n",
    "\n",
    "text = \"I am a learner at DataTrained Academy, they've provided me an amzaing internship in a greaat company named Flip Robo.\"\n",
    "\n",
    "words = Characters(text)\n",
    "print(words)"
   ]
  },
  {
   "cell_type": "code",
   "execution_count": 29,
   "id": "fb5cac65",
   "metadata": {},
   "outputs": [
    {
     "name": "stdout",
     "output_type": "stream",
     "text": [
      "['they', 'named', 'Flip', 'Robo']\n"
     ]
    }
   ],
   "source": [
    "# Question 4- Create a function in python to find all three, four, and five character words in a string. \n",
    "# The use of the re.compile() method is mandatory.\n",
    "\n",
    "def Characters(text):\n",
    "    pattern = re.compile(r\"\\b\\w{3,5}\\b\")\n",
    "    matches = pattern.findall(text)\n",
    "    return matches\n",
    "\n",
    "text = \"I am a learner at DataTrained Academy, they've provided me an amzaing internship in a greaat company named Flip Robo.\"\n",
    "\n",
    "words = Characters(text)\n",
    "print(words)"
   ]
  },
  {
   "cell_type": "code",
   "execution_count": 62,
   "id": "f918bfd2",
   "metadata": {},
   "outputs": [
    {
     "name": "stdout",
     "output_type": "stream",
     "text": [
      "['example (.com)', 'hr@fliprobo (.com)', 'github (.com)', 'Hello', 'Data']\n"
     ]
    }
   ],
   "source": [
    "# Question 5- Create a function in Python to remove the parenthesis in a list of strings. The use of the re.compile() method is mandatory.\n",
    "# Sample Text: [\"example (.com)\", \"hr@fliprobo (.com)\", \"github (.com)\", \"Hello (Data Science World)\", \"Data (Scientist)\"]\n",
    "# Expected Output:\n",
    "# example.com\n",
    "# hr@fliprobo.com\n",
    "# github.com\n",
    "# Hello Data Science World\n",
    "# Data Scientist\n",
    "import re\n",
    "\n",
    "def remove_parenthesis(text):\n",
    "    pattern = re.compile(r\"\\s*\\(\\b[^)]*\\b\\)\")\n",
    "    matches = [pattern.sub(\"\", item) for item in text]\n",
    "    return matches\n",
    "\n",
    "text = [\"example (.com)\", \"hr@fliprobo (.com)\", \"github (.com)\", \"Hello (Data Science World)\", \"Data (Scientist)\"]\n",
    "\n",
    "removed_parenthesis = remove_parenthesis(text)\n",
    "print(removed_parenthesis)\n"
   ]
  },
  {
   "cell_type": "code",
   "execution_count": 63,
   "id": "5cb0db9d",
   "metadata": {},
   "outputs": [],
   "source": [
    "# Question 6- Write a python program to remove the parenthesis area from the text stored in the text file using Regular Expression.\n",
    "# Sample Text: [\"example (.com)\", \"hr@fliprobo (.com)\", \"github (.com)\", \"Hello (Data Science World)\", \"Data (Scientist)\"]\n",
    "# Expected Output: [\"example\", \"hr@fliprobo\", \"github\", \"Hello\", \"Data\"]\n",
    "# Note- Store given sample text in the text file and then to remove the parenthesis area from the text.\n"
   ]
  },
  {
   "cell_type": "code",
   "execution_count": 64,
   "id": "edddc34d",
   "metadata": {},
   "outputs": [
    {
     "name": "stdout",
     "output_type": "stream",
     "text": [
      "['I am a learner at ', 'Data', 'Trained ', \"Academy, they've provided me an amzaing internship in a greaat company named \", 'Flip ', 'Robo.']\n"
     ]
    }
   ],
   "source": [
    "# Question 7- Write a regular expression in Python to split a string into uppercase letters.\n",
    "# Sample text: “ImportanceOfRegularExpressionsInPython”\n",
    "# Expected Output: [‘Importance’, ‘Of’, ‘Regular’, ‘Expression’, ‘In’, ‘Python’]\n",
    "\n",
    "text = \"I am a learner at DataTrained Academy, they've provided me an amzaing internship in a greaat company named Flip Robo.\"\n",
    "result = re.findall (\"[A-Z][^A-Z]*\", text)\n",
    "print(result)"
   ]
  },
  {
   "cell_type": "code",
   "execution_count": 82,
   "id": "2d93c60b",
   "metadata": {},
   "outputs": [
    {
     "name": "stdout",
     "output_type": "stream",
     "text": [
      "Iamalearnerat1DataTrainedAcademy,theyhave1providedmeanamzainginternshipin1greatcompanynamedFlipRobo.\n",
      "Iamalearnerat 1DataTrainedAcademy,theyhave 1providedmeanamzainginternshipin 1greatcompanynamedFlipRobo.\n"
     ]
    }
   ],
   "source": [
    "# Question 8- Create a function in python to insert spaces between words starting with numbers.\n",
    "# Sample Text: “RegularExpression1IsAn2ImportantTopic3InPython\"\n",
    "# Expected Output: RegularExpression 1IsAn 2ImportantTopic 3InPython\n",
    "\n",
    "\n",
    "# didn't had any related text so made my own \n",
    "text = \"I am a learner at 1DataTrained Academy, they have 1 provided me an amzaing internship in 1 great company named Flip Robo.\"\n",
    "matches = re.sub(\" \",\"\",text)\n",
    "print(matches)\n",
    "\n",
    "def add_space(text):\n",
    "    pattern = r\"(\\d)\"\n",
    "    result = re.sub(pattern,r\" \\1\", text)\n",
    "    return result\n",
    "\n",
    "text = \"Iamalearnerat1DataTrainedAcademy,theyhave1providedmeanamzainginternshipin1greatcompanynamedFlipRobo.\"\n",
    "output = add_space(text)\n",
    "print(output)"
   ]
  },
  {
   "cell_type": "code",
   "execution_count": 86,
   "id": "0380dc77",
   "metadata": {},
   "outputs": [
    {
     "name": "stdout",
     "output_type": "stream",
     "text": [
      " Iamalearnerat 1 Data Trained Academy,theyhave 1providedmeanamzainginternshipin 1greatcompanynamed Flip Robo.\n"
     ]
    }
   ],
   "source": [
    "# Question 9- Create a function in python to insert spaces between words starting with capital letters or with numbers.\n",
    "# Sample Text: “RegularExpression1IsAn2ImportantTopic3InPython\"\n",
    "# Expected Output:  RegularExpression 1 IsAn 2 ImportantTopic 3 InPython\n",
    "\n",
    "def add_space(text):\n",
    "    pattern = r\"([A-Z0-9])\"\n",
    "    result = re.sub(pattern, r\" \\1\", text)\n",
    "    return result\n",
    "\n",
    "text = \"Iamalearnerat1DataTrainedAcademy,theyhave1providedmeanamzainginternshipin1greatcompanynamedFlipRobo.\"\n",
    "output = add_space(text)\n",
    "print(output)\n"
   ]
  },
  {
   "cell_type": "code",
   "execution_count": 87,
   "id": "35532ef0",
   "metadata": {},
   "outputs": [
    {
     "name": "stdout",
     "output_type": "stream",
     "text": [
      "       Country          Region  Happiness Rank  Happiness Score  \\\n",
      "0  Switzerland  Western Europe               1            7.587   \n",
      "1      Iceland  Western Europe               2            7.561   \n",
      "2      Denmark  Western Europe               3            7.527   \n",
      "3       Norway  Western Europe               4            7.522   \n",
      "4       Canada   North America               5            7.427   \n",
      "\n",
      "   Standard Error  Economy (GDP per Capita)   Family  \\\n",
      "0         0.03411                   1.39651  1.34951   \n",
      "1         0.04884                   1.30232  1.40223   \n",
      "2         0.03328                   1.32548  1.36058   \n",
      "3         0.03880                   1.45900  1.33095   \n",
      "4         0.03553                   1.32629  1.32261   \n",
      "\n",
      "   Health (Life Expectancy)  Freedom  Trust (Government Corruption)  \\\n",
      "0                   0.94143  0.66557                        0.41978   \n",
      "1                   0.94784  0.62877                        0.14145   \n",
      "2                   0.87464  0.64938                        0.48357   \n",
      "3                   0.88521  0.66973                        0.36503   \n",
      "4                   0.90563  0.63297                        0.32957   \n",
      "\n",
      "   Generosity  Dystopia Residual first_five_letters  \n",
      "0     0.29678            2.51738             Switze  \n",
      "1     0.43630            2.70201             Icelan  \n",
      "2     0.34139            2.49204             Denmar  \n",
      "3     0.34699            2.46531             Norway  \n",
      "4     0.45811            2.45176             Canada  \n"
     ]
    }
   ],
   "source": [
    "# Question 10- Use the github link below to read the data and create a dataframe. After creating the dataframe extract the first 6 letters of each country and store in the dataframe under a new column called first_five_letters.\n",
    "# Github Link-  https://raw.githubusercontent.com/dsrscientist/DSData/master/happiness_score_dataset.csv\n",
    "\n",
    "import pandas as pd\n",
    "\n",
    "url = \"https://raw.githubusercontent.com/dsrscientist/DSData/master/happiness_score_dataset.csv\"\n",
    "df = pd.read_csv(url)\n",
    "df['first_five_letters'] = df['Country'].str[:6]\n",
    "\n",
    "print(df.head())"
   ]
  },
  {
   "cell_type": "code",
   "execution_count": 1,
   "id": "a7ebd96e",
   "metadata": {},
   "outputs": [
    {
     "name": "stdout",
     "output_type": "stream",
     "text": [
      "<re.Match object; span=(0, 2), match='My'>\n",
      "['My', 'name', 'is', 'Anish', 'Tiwari', 'my', 'age', 'is', '22', 'my', 'favourite', 'username', 'of', 'mine', 'is', 'Its_', 'nish_', '1', 'currently', 'I', 'am', 'pursuing', 'B', 'Tech', 'in', 'Artificial', 'Intelligence', 'and', 'Data', 'Science', 'I', 'am', 'in', 'my', 'final', 'year']\n"
     ]
    }
   ],
   "source": [
    "# Question 11- Write a Python program to match a string that contains \n",
    "# only upper and lowercase letters, numbers, and underscores.\n",
    "import re\n",
    "text = \"My name is Anish Tiwari, my age is 22, my favourite username of mine is Its_@nish_#1,currently I am pursuing B Tech in Artificial Intelligence and Data Science I am in my final year!\"\n",
    "pattern = \"\\w+\"\n",
    "result = re.match(pattern, text)\n",
    "result1 = re.findall(pattern, text)\n",
    "    \n",
    "print(result)\n",
    "print(result1)"
   ]
  },
  {
   "cell_type": "code",
   "execution_count": 29,
   "id": "a40e51ab",
   "metadata": {},
   "outputs": [
    {
     "name": "stdout",
     "output_type": "stream",
     "text": [
      "['555']\n"
     ]
    }
   ],
   "source": [
    "# Question 12- Write a Python program where a string will start with a specific number. \n",
    "def num(text):\n",
    "    pattern = re.compile(r\"^5+\")\n",
    "    match = re.findall(pattern, text)\n",
    "    return match\n",
    "\n",
    "text = \"555.5453443234\"\n",
    "result = num(text)\n",
    "print(result)"
   ]
  },
  {
   "cell_type": "code",
   "execution_count": 32,
   "id": "70cc9159",
   "metadata": {},
   "outputs": [
    {
     "name": "stdout",
     "output_type": "stream",
     "text": [
      "128.52../16.\n"
     ]
    }
   ],
   "source": [
    "# Question 13- Write a Python program to remove leading zeros from an IP address\n",
    "def remove_zero(TarStr):\n",
    "    pattern = re.compile(\"0\")\n",
    "    match = re.sub(pattern,\"\",TarStr)\n",
    "    return match\n",
    "\n",
    "TarStr = \"128.52.0.0/16.\"\n",
    "result = remove_zero(TarStr)\n",
    "print(result)"
   ]
  },
  {
   "cell_type": "code",
   "execution_count": 43,
   "id": "763a0427",
   "metadata": {},
   "outputs": [
    {
     "name": "stdout",
     "output_type": "stream",
     "text": [
      "On August 15th 1947 that India was declared independent from British colonialism, and the reins of control were handed over to the leaders of the Country.\n",
      "August 15th 1947\n"
     ]
    }
   ],
   "source": [
    "# Question 14- Write a regular expression in python to match a date string in the form of Month name followed by day number and year stored in a text file.\n",
    "# Sample text :  ' On August 15th 1947 that India was declared independent from British colonialism, and the reins of control were handed over to the leaders of the Country’.\n",
    "# Expected Output- August 15th 1947\n",
    "# Note- Store given sample text in the text file and then extract the date string asked format.\n",
    "dd = open(\"C:\\\\Users\\\\andyt\\\\OneDrive\\\\Desktop\\\\Data Science Course\\\\Test Folder\\\\Match Date.txt\",\"w\")\n",
    "dd.write(\"On August 15th 1947 that India was declared independent from British colonialism, and the reins of control were handed over to the leaders of the Country.\")\n",
    "dd.close()\n",
    "dd = open(\"C:\\\\Users\\\\andyt\\\\OneDrive\\\\Desktop\\\\Data Science Course\\\\Test Folder\\\\Match Date.txt\")\n",
    "print(dd.read())\n",
    "dd.close()\n",
    "\n",
    "pattern = r\"(January|February|March|April|May|June|July|August|September|October|Novembeer|December)\\s+\\d{1,2}(st|nd|rd|th)\\s+\\d{4}\"\n",
    "\n",
    "with open(\"C:\\\\Users\\\\andyt\\\\OneDrive\\\\Desktop\\\\Data Science Course\\\\Test Folder\\\\Match Date.txt\",\"r\") as file:\n",
    "    text = file.read()\n",
    "    \n",
    "match = re.search(pattern, text)\n",
    "\n",
    "if match:\n",
    "    DateStr = match.group()\n",
    "    print(DateStr)\n",
    "    \n",
    "else:\n",
    "    print(\"No match found\")"
   ]
  },
  {
   "cell_type": "code",
   "execution_count": 49,
   "id": "01b31137",
   "metadata": {},
   "outputs": [
    {
     "name": "stdout",
     "output_type": "stream",
     "text": [
      "['Physics', 'Chemistry', 'Mathematics']\n"
     ]
    }
   ],
   "source": [
    "# Question 15- Write a Python program to search some literals strings in a string. \n",
    "# Sample text : 'The quick brown fox jumps over the lazy dog.'\n",
    "# Searched words : 'fox', 'dog', 'horse'\n",
    "\n",
    "\n",
    "def search(text):\n",
    "    pattern = re.compile(r\"Physics|Chemistry|mathematics|electronic science\",flags = re.IGNORECASE)\n",
    "    match = re.search(pattern, text)\n",
    "    match = re.findall(pattern, text)\n",
    "    return match\n",
    "\n",
    "text = \"In my Jr College I took Physics, Chemistry and Mathematics with the electve Electronic Science!\"\n",
    "\n",
    "result = search(text)\n",
    "print(result)"
   ]
  },
  {
   "cell_type": "code",
   "execution_count": 56,
   "id": "9737801b",
   "metadata": {},
   "outputs": [
    {
     "name": "stdout",
     "output_type": "stream",
     "text": [
      "<re.Match object; span=(24, 31), match='Physics'>\n"
     ]
    }
   ],
   "source": [
    "# Question 16- Write a Python program to search a literals string in a string and also find the location within the original string where the pattern occurs\n",
    "# Sample text : 'The quick brown fox jumps over the lazy dog.'\n",
    "# Searched words : 'fox'\n",
    "\n",
    "def search1(text):\n",
    "    pattern = re.compile(r\"Physics|chemistry|mathematics|electronic science\", flags = re.IGNORECASE)\n",
    "    match = re.search(pattern, text)\n",
    "    return match\n",
    "\n",
    "text = \"In my Jr College I took Physics, Chemistry and Mathematics with the electve Electronic Science!\"\n",
    "\n",
    "result = search1(text)\n",
    "print(result)"
   ]
  },
  {
   "cell_type": "code",
   "execution_count": 9,
   "id": "36074538",
   "metadata": {},
   "outputs": [
    {
     "name": "stdout",
     "output_type": "stream",
     "text": [
      "found 'routing' at 7:14\n",
      "found 'routing' at 24:31\n",
      "found 'routing' at 44:51\n"
     ]
    }
   ],
   "source": [
    "# Question 17- Write a Python program to find the substrings within a string.\n",
    "# Sample text : 'Python exercises, PHP exercises, C# exercises'\n",
    "# Pattern : 'exercises'.\n",
    "text = \"Monday routing, Tuesday routing, Wednesday, routing are same and remaining other days are same!\"\n",
    "pattern = \"routing\"\n",
    "for match in re.finditer(pattern, text):\n",
    "    s = match.start()\n",
    "    e = match.end()\n",
    "    \n",
    "    print(\"found '%s' at %d:%d\" % (text[s:e],s,e))"
   ]
  },
  {
   "cell_type": "code",
   "execution_count": 11,
   "id": "0051ddf6",
   "metadata": {},
   "outputs": [
    {
     "name": "stdout",
     "output_type": "stream",
     "text": [
      "found 'OS' at 21:23\n",
      "found 'OS' at 57:59\n",
      "found 'OS' at 65:67\n",
      "found 'OS' at 76:78\n"
     ]
    }
   ],
   "source": [
    "# Question 18- Write a Python program to find the occurrence and position of the substrings within a string.\n",
    "text = \"We have have so many OS currently been used like Windows OS, Mac OS, Ubuntu OS, etc.\"\n",
    "pattern = \"OS\"\n",
    "for match in re.finditer(pattern, text):\n",
    "    s = match.start()\n",
    "    e = match.end()\n",
    "    print(\"found '%s' at %d:%d\" % (text[s:e],s,e))"
   ]
  },
  {
   "cell_type": "code",
   "execution_count": 15,
   "id": "5edee226",
   "metadata": {},
   "outputs": [
    {
     "name": "stdout",
     "output_type": "stream",
     "text": [
      "05-05-2000\n"
     ]
    }
   ],
   "source": [
    "# Question 19- Write a Python program to convert a date of yyyy-mm-dd format to dd-mm-yyyy format.\n",
    "text = \"2000-05-05\"\n",
    "converted_date = re.sub(r\"(\\d{4})-(\\d{2})-(\\d{2})\",r\"\\2-\\3-\\1\", text)\n",
    "print(converted_date)"
   ]
  },
  {
   "cell_type": "code",
   "execution_count": 23,
   "id": "313437e4",
   "metadata": {},
   "outputs": [
    {
     "name": "stdout",
     "output_type": "stream",
     "text": [
      "['23.32', '34.4', '98.34', '767.87', '675.5']\n"
     ]
    }
   ],
   "source": [
    "# Question 20- Create a function in python to find all decimal numbers with a precision of 1 or 2 in a string. The use of the re.compile() method is mandatory.\n",
    "# Sample Text: \"01.12 0132.123 2.31875 145.8 3.01 27.25 0.25\"\n",
    "# Expected Output: ['01.12', '145.8', '3.01', '27.25', '0.25']\n",
    "text = \"23.32,34.4,65,98.343,767.879,7967,675.5\"\n",
    "def decimal(text):\n",
    "    pattern = re.compile(r\"\\d+\\.\\d{1,2}\")\n",
    "    match = re.findall(pattern, text)\n",
    "    return match\n",
    "# text = \"23.32,34.4,65,98.343,767.879,7967,675.5\"\n",
    "\n",
    "result = decimal(text)\n",
    "print(result)"
   ]
  },
  {
   "cell_type": "code",
   "execution_count": 32,
   "id": "04b35db3",
   "metadata": {},
   "outputs": [
    {
     "name": "stdout",
     "output_type": "stream",
     "text": [
      "[('123', 5), ('123', 15)]\n"
     ]
    }
   ],
   "source": [
    "# Question 21- Write a Python program to separate and print the numbers and their position of a given string.\n",
    "text = \"hello123mictest123\"\n",
    "def separate(text):\n",
    "    pattern = re.compile(r\"\\d+\")\n",
    "    matches = re.finditer(pattern, text)\n",
    "    result = [(match.group(), match.start()) for match in matches]\n",
    "    return result\n",
    "text = \"hello123mictest123\"\n",
    "output = separate(text)\n",
    "print(output)"
   ]
  },
  {
   "cell_type": "code",
   "execution_count": 33,
   "id": "c0d9cc2b",
   "metadata": {},
   "outputs": [
    {
     "name": "stdout",
     "output_type": "stream",
     "text": [
      "987\n"
     ]
    }
   ],
   "source": [
    "# Question 22- Write a regular expression in python program to extract maximum/largest numeric value from a string.\n",
    "# Sample Text:  'My marks in each semester are: 947, 896, 926, 524, 734, 950, 642'\n",
    "# Expected Output: 950\n",
    "text = \"And these are my sem marks: 789,876,865,987,654,786,788,897\"\n",
    "pattern = r\"\\d+\"\n",
    "match = re.findall(pattern, text)\n",
    "max_marks = max(map(int, match))\n",
    "print(max_marks)"
   ]
  },
  {
   "cell_type": "code",
   "execution_count": 36,
   "id": "2691e4f5",
   "metadata": {},
   "outputs": [
    {
     "name": "stdout",
     "output_type": "stream",
     "text": [
      " Regular Expression Is An Important Topic In Python\n"
     ]
    }
   ],
   "source": [
    "# Question 23- Create a function in python to insert spaces between words starting with capital letters.\n",
    "# Sample Text: “RegularExpressionIsAnImportantTopicInPython\"\n",
    "# Expected Output: Regular Expression Is An Important Topic In Python\n",
    "text = \"RegularExpressionIsAnImportantTopicInPython\"\n",
    "\n",
    "def insert_space(text):\n",
    "    pattern = re.compile(r\"([A-Z])\")\n",
    "    match = re.sub(pattern, r\" \\1\", text)\n",
    "    return match\n",
    "result = insert_space(text)\n",
    "print(result)"
   ]
  },
  {
   "cell_type": "code",
   "execution_count": 37,
   "id": "dcb8b497",
   "metadata": {},
   "outputs": [
    {
     "name": "stdout",
     "output_type": "stream",
     "text": [
      "['Hello', 'Python', 'Reg', 'Ex', 'Lecture']\n"
     ]
    }
   ],
   "source": [
    "# Question 24- Python regex to find sequences of one upper case letter followed by lower case letters\n",
    "text = \"HelloPython RegExLecture\"\n",
    "pattern = \"[A-Z][a-z]+\"\n",
    "match = re.findall(pattern, text)\n",
    "print(match)"
   ]
  },
  {
   "cell_type": "code",
   "execution_count": 8,
   "id": "b757f3aa",
   "metadata": {},
   "outputs": [
    {
     "name": "stdout",
     "output_type": "stream",
     "text": [
      "It was so interesting when I got to know about Data Science\n"
     ]
    }
   ],
   "source": [
    "# Question 25- Write a Python program to remove continuous duplicate words from Sentence using Regular Expression.\n",
    "# Sample Text: \"Hello hello world world\"\n",
    "# Expected Output: Hello hello world\n",
    "import re\n",
    "text = \"It was so interesting when when I got to know about Data Data Science\"\n",
    "def duplicate(text):\n",
    "    pattern = re.compile(r\"\\b(\\w+)(?:\\W+\\1\\b)+\")\n",
    "    match = re.sub(pattern, r\"\\1\", text)\n",
    "    return match\n",
    "result = duplicate(text)\n",
    "print(result)"
   ]
  },
  {
   "cell_type": "code",
   "execution_count": 11,
   "id": "d1fde12c",
   "metadata": {},
   "outputs": [
    {
     "name": "stdout",
     "output_type": "stream",
     "text": [
      "Your msg: This is pleasure123\n",
      "This is pleasure123 This input string ends with an Alphnumeric character!\n"
     ]
    }
   ],
   "source": [
    "# Question 26-  Write a python program using RegEx to accept string ending with alphanumeric character.\n",
    "pattern = r\"[a-zA-Z0-9]*[a-zA-Z0-9]$\"\n",
    "Msg = input(\"Your msg: \")\n",
    "if re.search(pattern, Msg):\n",
    "    print(Msg, \"This input string ends with an Alphnumeric character!\")\n",
    "else:\n",
    "    print(Msg, \"This input string does not ends with an Alphanumeric character!\")"
   ]
  },
  {
   "cell_type": "code",
   "execution_count": 19,
   "id": "1d634ca7",
   "metadata": {},
   "outputs": [
    {
     "name": "stdout",
     "output_type": "stream",
     "text": [
      "['#Parents', '#Siblings', '#3']\n"
     ]
    }
   ],
   "source": [
    "# Question 27-Write a python program using RegEx to extract the hashtags.\n",
    "# Sample Text:  \"\"\"RT @kapil_kausik: #Doltiwal I mean #xyzabc is \"hurt\" by #Demonetization as the same has rendered USELESS <ed><U+00A0><U+00BD><ed><U+00B1><U+0089> \"acquired funds\" No wo\"\"\"\n",
    "# Expected Output: ['#Doltiwal', '#xyzabc', '#Demonetization']\n",
    "text = \"\"\" 1st: #Parents, 2nd: #Siblings/Friends, #3: Other wellwishers\"\"\"\n",
    "def hashtag(text):\n",
    "    pattern = re.compile(r\"#\\w+\")\n",
    "    match = re.findall(pattern, text)\n",
    "    return match\n",
    "result = hashtag(text)\n",
    "print(result)"
   ]
  },
  {
   "cell_type": "code",
   "execution_count": 24,
   "id": "c3a0ba54",
   "metadata": {},
   "outputs": [
    {
     "name": "stdout",
     "output_type": "stream",
     "text": [
      "@Jags123456 Bharat band on 28??<ed><ed>Those who  are protesting #demonetization  are all different party leaders\n"
     ]
    }
   ],
   "source": [
    "# Question 28- Write a python program using RegEx to remove <U+..> like symbols\n",
    "# Check the below sample text, there are strange symbols something of the sort <U+..> all over the place. You need to come up with a general Regex expression that will cover all such symbols.\n",
    "# Sample Text: \"@Jags123456 Bharat band on 28??<ed><U+00A0><U+00BD><ed><U+00B8><U+0082>Those who  are protesting #demonetization  are all different party leaders\"\n",
    "# Expected Output: @Jags123456 Bharat band on 28??<ed><ed>Those who  are protesting #demonetization  are all different party leaders\n",
    "Sample_Text = \"@Jags123456 Bharat band on 28??<ed><U+00A0><U+00BD><ed><U+00B8><U+0082>Those who  are protesting #demonetization  are all different party leaders\"\n",
    "pattern = r\"<U\\+[A-Z0-9]+>\"\n",
    "match = re.sub(pattern, r\"\", Sample_Text)\n",
    "print(match)"
   ]
  },
  {
   "cell_type": "code",
   "execution_count": 9,
   "id": "3809e024",
   "metadata": {},
   "outputs": [
    {
     "name": "stdout",
     "output_type": "stream",
     "text": [
      "Ron was born on 12-09-1992 and he was admitted to school 15-12-1999.\n",
      "['12-09-1992', '15-12-1999']\n"
     ]
    }
   ],
   "source": [
    "\n",
    "# Question 29- Write a python program to extract dates from the text stored in the text file.\n",
    "# Sample Text: Ron was born on 12-09-1992 and he was admitted to school 15-12-1999.\n",
    "# Note- Store this sample text in the file and then extract dates.\n",
    "import re\n",
    "dd = open(\"C:\\\\Users\\\\andyt\\\\OneDrive\\\\Desktop\\\\Data Science Course\\\\Test Folder\\\\Dates.txt\",\"w\")\n",
    "dd.write(\"Ron was born on 12-09-1992 and he was admitted to school 15-12-1999.\")\n",
    "dd.close()\n",
    "dd = open(\"C:\\\\Users\\\\andyt\\\\OneDrive\\\\Desktop\\\\Data Science Course\\\\Test Folder\\\\Dates.txt\",\"r\")\n",
    "print(dd.read())\n",
    "dd.close()\n",
    "pattern = r\"\\d{2}-\\d{2}-\\d{4}\"\n",
    "with open(\"C:\\\\Users\\\\andyt\\\\OneDrive\\\\Desktop\\\\Data Science Course\\\\Test Folder\\\\Dates.txt\",\"r\") as file:\n",
    "    text = file.read()\n",
    "match = re.findall(pattern, text)\n",
    "print(match)"
   ]
  },
  {
   "cell_type": "code",
   "execution_count": 14,
   "id": "7e3424e1",
   "metadata": {},
   "outputs": [
    {
     "name": "stdout",
     "output_type": "stream",
     "text": [
      " following example creates  ArrayList  a capacity   elements. 4 elements   added   ArrayList   ArrayList  trimmed accordingly.\n"
     ]
    }
   ],
   "source": [
    "# Question 30- Create a function in python to remove all words from a string of length between 2 and 4.\n",
    "# The use of the re.compile() method is mandatory.\n",
    "# Sample Text: \"The following example creates an ArrayList with a capacity of 50 elements. 4 elements are then added to the ArrayList and the ArrayList is trimmed accordingly.\"\n",
    "# Expected Output:  following example creates ArrayList a capacity elements. 4 elements added ArrayList ArrayList trimmed accordingly.\n",
    "Sample_Text =  \"The following example creates an ArrayList with a capacity of 50 elements. 4 elements are then added to the ArrayList and the ArrayList is trimmed accordingly.\"\n",
    "pattern = r\"\\b\\w{2,4}\\b\"\n",
    "match = re.sub(pattern,\"\", Sample_Text)\n",
    "print(match)"
   ]
  },
  {
   "cell_type": "code",
   "execution_count": null,
   "id": "5ed168af",
   "metadata": {},
   "outputs": [],
   "source": []
  }
 ],
 "metadata": {
  "kernelspec": {
   "display_name": "Python 3 (ipykernel)",
   "language": "python",
   "name": "python3"
  },
  "language_info": {
   "codemirror_mode": {
    "name": "ipython",
    "version": 3
   },
   "file_extension": ".py",
   "mimetype": "text/x-python",
   "name": "python",
   "nbconvert_exporter": "python",
   "pygments_lexer": "ipython3",
   "version": "3.11.5"
  }
 },
 "nbformat": 4,
 "nbformat_minor": 5
}
